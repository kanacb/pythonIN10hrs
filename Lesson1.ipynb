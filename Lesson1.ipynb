{
  "cells": [
    {
      "attachments": {},
      "cell_type": "markdown",
      "metadata": {},
      "source": [
        "<a href=\"https://colab.research.google.com/github/kanacb/pythonIN10hrs/blob/main/Lesson1.ipynb\" target=\"_blank\"><img src=\"https://colab.research.google.com/assets/colab-badge.svg\" alt=\"Open In Colab\"/></a>"
      ]
    },
    {
      "attachments": {},
      "cell_type": "markdown",
      "metadata": {
        "id": "D2nMIjFVvP7y"
      },
      "source": [
        "# **Lesson 1** - Introduction to Python\n",
        "\n",
        "## Lesson Plan\n",
        "1. Setup your development environment\n",
        "2. Learn about variables\n",
        "3. Try some examples\n",
        "4. Learn how to use String Functions\n",
        "5. Create a Python dictionary\n",
        "6. Quizz\n",
        "7. Take home assignments"
      ]
    },
    {
      "attachments": {},
      "cell_type": "markdown",
      "metadata": {
        "id": "PFHj-5_Ce1Br"
      },
      "source": [
        "# Setup your development environment\n",
        "## Option 1\n",
        "Lets download software to get started with your Python development.\n",
        "1. [Install Python] (https://www.python.org/downloads/)\n",
        "2. [Visual Studio Code] (https://code.visualstudio.com/download) for Windows. \n",
        "3. [git](https://git-scm.com/downloads) To download git repositories\n",
        "\n",
        "or\n",
        "## Option 2\n",
        "Use Google Colab"
      ]
    },
    {
      "attachments": {},
      "cell_type": "markdown",
      "metadata": {},
      "source": [
        "## Continuation from Option 1\n",
        "1. Create a folder in your local machine \"Projects\" => File Explorer => [User \\ Documents] => New Folder\n",
        "2. Open Visual Studio Code => Top Menu -> File -> Open Folder -> PythonProjects\n",
        "3. Open the Terminal => Top Menu -> Terminal -> New Terminal\n",
        "4. In the terminal, enter  =>  git clone https://github.com/kanacb/pythonIN10hrs.git \n",
        "5. Open Visual Studio Code => Top Menu -> File -> Open Folder -> pythonIN10hrs"
      ]
    },
    {
      "attachments": {},
      "cell_type": "markdown",
      "metadata": {
        "id": "yuWh7Js0zPPJ"
      },
      "source": [
        "# What is a Variable?\n",
        "There are 2 types of variables.\n",
        "\n",
        "## Scalars\n",
        "\n",
        "Scalars are the fundamental data building blocks in computers.\n",
        "\n",
        "- string - characters, one or many\n",
        "- int — signed, unlimited precision integers  321\n",
        "- float — IEEE 754 floating-point numbers     3.12 or 31.2e-1 \n",
        "   > - float(\"nan\") - not a number\n",
        "   > - float(\"-inf\") negative infinity\n",
        "   > - float(\"int\") positive infinity\n",
        "- None — a special, singular null value\n",
        "- bool — true/false boolean values\n",
        "- complex - complex numbers e.g. 4 + 3j => j = sqrt(-1) imaginary part\n",
        "\n",
        "\n",
        "Question on scalar types?\n",
        "What will the following code output:\n",
        "`print(bool(0.0),(9.821983),(-39),(0),(\"HELLO\"))`\n"
      ]
    },
    {
      "cell_type": "code",
      "execution_count": null,
      "metadata": {},
      "outputs": [],
      "source": [
        "print(bool(0.0),bool(1),(9.821983),(-39),(0),(\"HELLO\"))\n",
        "print(type(bool(0.0)),type(bool(1)),type((9.821983)),type((-39)),type((0)),type((\"HELLO\")))"
      ]
    },
    {
      "attachments": {},
      "cell_type": "markdown",
      "metadata": {
        "id": "PRTH2JEHvcbg"
      },
      "source": [
        "### What is Variable Assignment?\n",
        "\n",
        "A variable can be a scalar or an array.\n",
        "\n",
        "`a = 1`\n",
        "\n",
        "> Deconstructed:\n",
        "\n",
        "a => a place in memory where the address is a\n",
        "\n",
        "= => its an assignment of a value to the variable a\n",
        "\n",
        "1 => is the value that will be stored in the variable a\n",
        "\n",
        "e.g. how to assign variables\n",
        "\n",
        "a = 1\n",
        "\n",
        "b = \"Father\"\n",
        "\n",
        "c = 3.125\n",
        "\n",
        "y = false"
      ]
    },
    {
      "attachments": {},
      "cell_type": "markdown",
      "metadata": {
        "id": "k1kdSsys82ti"
      },
      "source": [
        "### Scalar Interchange\n",
        "\n",
        "**Explicit Data Type Casting Variables or Conversion**\n",
        "\n",
        "<br>Casting from any type to any type\n",
        "\n",
        "e.g. a = 1 ( a is an integer)\n",
        "\n",
        "b = \"Father\" ( b is a string)"
      ]
    },
    {
      "cell_type": "markdown",
      "metadata": {
        "id": "KHfnywjn_Znd"
      },
      "source": [
        "Lets have some fun with the computer ..."
      ]
    },
    {
      "cell_type": "code",
      "execution_count": null,
      "metadata": {
        "colab": {
          "base_uri": "https://localhost:8080/",
          "height": 35
        },
        "id": "Oss0-SOW_RNM",
        "outputId": "5b86c4b3-1e13-4c91-c6d0-b9ce7f2f1bbf"
      },
      "outputs": [],
      "source": [
        "x = 3\n",
        "y = \"a\"\n",
        "x * y"
      ]
    },
    {
      "cell_type": "code",
      "execution_count": null,
      "metadata": {
        "colab": {
          "base_uri": "https://localhost:8080/",
          "height": 163
        },
        "id": "QM1LhLPA_ijx",
        "outputId": "81d4e7a2-c9cf-43a9-e177-598c60d3fb94"
      },
      "outputs": [],
      "source": [
        "x + y"
      ]
    },
    {
      "cell_type": "code",
      "execution_count": null,
      "metadata": {
        "colab": {
          "base_uri": "https://localhost:8080/",
          "height": 35
        },
        "id": "ITNQIvnX_pjR",
        "outputId": "359b82fe-7ccf-4e20-c2e3-e030b367a5f1"
      },
      "outputs": [],
      "source": [
        "str(x) + y"
      ]
    },
    {
      "cell_type": "code",
      "execution_count": null,
      "metadata": {
        "colab": {
          "base_uri": "https://localhost:8080/",
          "height": 163
        },
        "id": "bU8NmJhQ_1tE",
        "outputId": "8387c697-7a13-42b8-acf0-22854a3b5bdb"
      },
      "outputs": [],
      "source": [
        "x > y"
      ]
    },
    {
      "attachments": {},
      "cell_type": "markdown",
      "metadata": {},
      "source": [
        "### Tips to go beyond\n",
        "\n",
        "1. Create a string variable - run the code\n",
        "2. What you have done is created a string object\n",
        "3. Find the functions in the object\n",
        "4. Type \".\" and see what happens?\n",
        "5. Now find the \"upper\" function?\n",
        "6. Run to code"
      ]
    },
    {
      "cell_type": "code",
      "execution_count": null,
      "metadata": {},
      "outputs": [],
      "source": [
        "test = \"I am creating my first line of code\""
      ]
    },
    {
      "cell_type": "code",
      "execution_count": null,
      "metadata": {},
      "outputs": [],
      "source": [
        "test.upper()"
      ]
    },
    {
      "cell_type": "code",
      "execution_count": null,
      "metadata": {},
      "outputs": [],
      "source": [
        "test"
      ]
    },
    {
      "attachments": {},
      "cell_type": "markdown",
      "metadata": {
        "id": "uHwjHihBzgXh"
      },
      "source": [
        "### What is an Array?\n",
        "\n",
        "### What kind of arrays are there in Python?\n",
        "\n",
        "1. List Array - [1,2,2,4,5] mutable => once created can change\n",
        "2. Tuple Array - (1,2,2,4,5) immutable => once created cannot change\n",
        "3. Dictionary Array - { 0 : 1, 1 : 2, 2 : 2, 3 : 3, 4 : 5} => two dimentional array\n",
        "4. Set Array - (1,2,4,5) => no duplicates\n",
        "5. Byte Arrays => array of bytes"
      ]
    },
    {
      "cell_type": "code",
      "execution_count": null,
      "metadata": {
        "id": "PvLY2D4O_dBu"
      },
      "outputs": [],
      "source": [
        "x = [ i for i in range(10)]"
      ]
    },
    {
      "attachments": {},
      "cell_type": "markdown",
      "metadata": {},
      "source": [
        "> Deconstructed:\n",
        "\n",
        "x => is a variable \n",
        "\n",
        "[ ] => array start and end\n",
        "\n",
        "i => a variable in the array\n",
        "\n",
        "in => for each element in the array is retured\n",
        "\n",
        "range => a funtion to generate an array\n",
        "\n",
        "range(x) => create an array of size x"
      ]
    },
    {
      "cell_type": "code",
      "execution_count": null,
      "metadata": {
        "id": "z3ZrHBx6_hTN"
      },
      "outputs": [],
      "source": [
        "x"
      ]
    },
    {
      "cell_type": "code",
      "execution_count": null,
      "metadata": {
        "id": "NdEy5ZR8s65C"
      },
      "outputs": [],
      "source": [
        "fruit1 = ('Apple',7800,3.20)\n",
        "fruit2 = ('Orange',4509,2.70)\n",
        "fruits = [fruit1,fruit2]\n",
        "headers = [\"Fruit\",\"Quantity\",\"Price\"]\n",
        "dicts = { \"citrus\" ,\"appleseed\"}"
      ]
    },
    {
      "cell_type": "code",
      "execution_count": null,
      "metadata": {
        "colab": {
          "base_uri": "https://localhost:8080/"
        },
        "id": "GW_DLjdI_6mJ",
        "outputId": "de07c631-9b04-446b-c408-3bf8aae4c8e6"
      },
      "outputs": [],
      "source": [
        "print(\"fruit1\",type(fruit1))\n",
        "print(\"fruit2\",type(fruit2))\n",
        "print(\"fruits\",type(fruits))\n",
        "print(\"headers\",type(headers))\n",
        "print(\"dictionary\",type(dicts))"
      ]
    },
    {
      "cell_type": "markdown",
      "metadata": {
        "id": "_9Rmb0QHe-Qt"
      },
      "source": [
        "## Why Dictionary is important?"
      ]
    },
    {
      "cell_type": "code",
      "execution_count": null,
      "metadata": {
        "id": "M6eK5IH6TIcS"
      },
      "outputs": [],
      "source": [
        "data = [dict(zip(headers,row)) for row in fruits]"
      ]
    },
    {
      "cell_type": "code",
      "execution_count": null,
      "metadata": {
        "colab": {
          "base_uri": "https://localhost:8080/"
        },
        "id": "XWfFG_D4TRea",
        "outputId": "7f65bf96-7bc6-4efb-f87b-fb72b36374e8"
      },
      "outputs": [],
      "source": [
        "print(\"data\",type(data))\n",
        "print(data)"
      ]
    },
    {
      "cell_type": "markdown",
      "metadata": {
        "id": "r_ovV5YLU9oC"
      },
      "source": [
        "### Why Sets are Unique?\n",
        "\n",
        "Lets try to add a new seed. "
      ]
    },
    {
      "cell_type": "code",
      "execution_count": null,
      "metadata": {
        "id": "13p57xPhVzay"
      },
      "outputs": [],
      "source": [
        "dicts.add(\"organic\")"
      ]
    },
    {
      "cell_type": "code",
      "execution_count": null,
      "metadata": {
        "colab": {
          "base_uri": "https://localhost:8080/"
        },
        "id": "pZTjNVkIV8MM",
        "outputId": "3a078d88-9ccd-4178-8b11-f622e26b3c0d"
      },
      "outputs": [],
      "source": [
        "print(dicts)"
      ]
    },
    {
      "cell_type": "markdown",
      "metadata": {
        "id": "efpvGV73fKEr"
      },
      "source": [
        "### Lets Test the Sets?"
      ]
    },
    {
      "cell_type": "code",
      "execution_count": null,
      "metadata": {
        "colab": {
          "base_uri": "https://localhost:8080/"
        },
        "id": "NG2hM8XfZ7_V",
        "outputId": "6efd41f8-60ec-4989-888a-26407681080f"
      },
      "outputs": [],
      "source": [
        "print('organic' in dicts)"
      ]
    },
    {
      "cell_type": "markdown",
      "metadata": {
        "id": "ysI2E4ojgNnK"
      },
      "source": [
        "### Everything is a Byte Array"
      ]
    },
    {
      "cell_type": "code",
      "execution_count": null,
      "metadata": {
        "id": "FQRmf4RfgUyu"
      },
      "outputs": [],
      "source": [
        "prime = [2,3,5]\n",
        "byteArray = bytearray(prime)"
      ]
    },
    {
      "cell_type": "code",
      "execution_count": null,
      "metadata": {
        "colab": {
          "base_uri": "https://localhost:8080/"
        },
        "id": "4XYeri33gc6_",
        "outputId": "b6747da2-7b20-4554-896a-3b38fc635ad9"
      },
      "outputs": [],
      "source": [
        "print(byteArray)"
      ]
    },
    {
      "attachments": {},
      "cell_type": "markdown",
      "metadata": {
        "id": "tQzO7ajpFtyv"
      },
      "source": [
        "# Assignment\n",
        "1. Create a tuple of => (Honda, Civic, 2.0)\n",
        "2. Create a tuple of => (BMW, M5, 3.0)\n",
        "3. Create an array [Tuple1,Tuple2]\n",
        "4. Create headers array => [Make, Model, CC]\n",
        "5. Create a dictionary of all of the above.\n",
        "\n"
      ]
    },
    {
      "cell_type": "code",
      "execution_count": null,
      "metadata": {},
      "outputs": [],
      "source": [
        "car1 = ('Honda','Civic',2.0)\n",
        "car2 = ('BMW','M5',3.0)\n",
        "cars = [car1,car2]\n",
        "headers = [\"Make\",\"Model\",\"CC\"]\n",
        "data = [dict(zip(headers,row)) for row in cars]\n",
        "data"
      ]
    }
  ],
  "metadata": {
    "colab": {
      "authorship_tag": "ABX9TyM/uO50Q1skoI53G1Eor34t",
      "collapsed_sections": [],
      "include_colab_link": true,
      "name": "Lesson1.ipynb",
      "provenance": [],
      "toc_visible": true
    },
    "kernelspec": {
      "display_name": "Python 3",
      "name": "python3"
    },
    "language_info": {
      "codemirror_mode": {
        "name": "ipython",
        "version": 3
      },
      "file_extension": ".py",
      "mimetype": "text/x-python",
      "name": "python",
      "nbconvert_exporter": "python",
      "pygments_lexer": "ipython3",
      "version": "3.10.4"
    }
  },
  "nbformat": 4,
  "nbformat_minor": 0
}
