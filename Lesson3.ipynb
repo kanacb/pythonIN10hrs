{
  "cells": [
    {
      "attachments": {},
      "cell_type": "markdown",
      "metadata": {
        "colab_type": "text",
        "id": "view-in-github"
      },
      "source": [
        "<a href=\"https://colab.research.google.com/github/kanacb/pythonIN10hrs/blob/main/Lesson3.ipynb\" target=\"_blank\"><img src=\"https://colab.research.google.com/assets/colab-badge.svg\" alt=\"Open In Colab\"/></a>"
      ]
    },
    {
      "attachments": {},
      "cell_type": "markdown",
      "metadata": {
        "id": "KUW_MsTnhbhA"
      },
      "source": [
        "# Lesson 3 - Graphing and Plotting\n",
        "\n",
        "## Lesson Plan\n",
        "1. Task 1\n",
        "2. Methodology\n",
        "3. Charting with Colab\n",
        "4. Quizz\n",
        "5. Take home assignment"
      ]
    },
    {
      "attachments": {},
      "cell_type": "markdown",
      "metadata": {
        "id": "Hd4P2fM4hHEv"
      },
      "source": [
        "# Task 1\n",
        "\n",
        "https://github.com/MoH-Malaysia/covid19-public\n",
        "\n",
        "Population of Malaysia\n",
        "1.   Plot Line Graph of Covid Deaths in Malaysia\n",
        "2.   Plot Scatter Plot by Location and size by number of visitors"
      ]
    },
    {
      "attachments": {},
      "cell_type": "markdown",
      "metadata": {
        "id": "uEm5oSdNIJWO"
      },
      "source": [
        "## Methodology to complete the task above\n",
        "1. Import libraries\n",
        "2. fetch data\n",
        "3. convert data to a pandas data frame\n",
        "4. inspect the data describe(), info(), \n",
        "5. prepare data for plotting\n",
        "6. plot the data with labels\n"
      ]
    },
    {
      "cell_type": "code",
      "execution_count": null,
      "metadata": {
        "id": "vZ_dxDYBISv0"
      },
      "outputs": [],
      "source": [
        "import pandas as pd\n",
        "import matplotlib.pyplot as plt"
      ]
    },
    {
      "cell_type": "code",
      "execution_count": null,
      "metadata": {
        "colab": {
          "base_uri": "https://localhost:8080/"
        },
        "id": "pNsn3sWlIbN4",
        "outputId": "4da45da1-b6be-40bd-f793-61b8fb17e85e"
      },
      "outputs": [],
      "source": [
        "data_raw = 'https://github.com/MoH-Malaysia/covid19-public/blob/main/static/population.csv?raw=true'\n",
        "data = pd.read_csv(data_raw)\n",
        "print('Loaded {} records from {}.'.format(len(data), data_raw))"
      ]
    },
    {
      "cell_type": "code",
      "execution_count": null,
      "metadata": {},
      "outputs": [],
      "source": [
        "data.info()"
      ]
    },
    {
      "cell_type": "code",
      "execution_count": null,
      "metadata": {},
      "outputs": [],
      "source": [
        "data.describe()"
      ]
    },
    {
      "cell_type": "code",
      "execution_count": null,
      "metadata": {
        "colab": {
          "base_uri": "https://localhost:8080/"
        },
        "id": "lax7iaVSImWS",
        "outputId": "5be3102a-bbc9-488e-98f1-0cbb21581bd1"
      },
      "outputs": [],
      "source": [
        "with pd.option_context('float_format', '{:.3f}'.format):\n",
        "    print(data.describe())"
      ]
    },
    {
      "cell_type": "code",
      "execution_count": null,
      "metadata": {
        "colab": {
          "base_uri": "https://localhost:8080/",
          "height": 293
        },
        "id": "K_3JrZkNJScX",
        "outputId": "af496503-7a3c-41db-9479-e6f4c687bd31"
      },
      "outputs": [],
      "source": [
        "x = data['state']\n",
        "y = data['pop']\n",
        "plt.plot(x,y)"
      ]
    },
    {
      "cell_type": "code",
      "execution_count": null,
      "metadata": {
        "colab": {
          "base_uri": "https://localhost:8080/",
          "height": 204
        },
        "id": "didyEN7NJmcj",
        "outputId": "7c16fe80-afc1-47eb-edaf-b8dba8a4c9ab"
      },
      "outputs": [],
      "source": [
        "state_data = data[data['state']!='Malaysia']\n",
        "state_data.head()"
      ]
    },
    {
      "cell_type": "code",
      "execution_count": null,
      "metadata": {
        "colab": {
          "base_uri": "https://localhost:8080/",
          "height": 204
        },
        "id": "IghB00qnJ_Yx",
        "outputId": "da712a69-6f05-4f24-c4f3-0c309053ac53"
      },
      "outputs": [],
      "source": [
        "state_data = state_data.reset_index()\n",
        "state_data.head()"
      ]
    },
    {
      "cell_type": "code",
      "execution_count": null,
      "metadata": {
        "colab": {
          "base_uri": "https://localhost:8080/",
          "height": 683
        },
        "id": "zfBtAdI6KSeZ",
        "outputId": "ac2bdebf-fd80-4730-94df-89406ff716e5"
      },
      "outputs": [],
      "source": [
        "x = state_data['state']\n",
        "y = state_data['pop']\n",
        "y1 = state_data['pop_60']\n",
        "plt.figure(figsize=(20,10))\n",
        "plt.xticks(rotation=45)\n",
        "plt.title(\"Population by Malaysian States\")\n",
        "plt.xlabel(\"States\")\n",
        "plt.ylabel(\"mill\")\n",
        "for ax,ay in zip(x,y):\n",
        "  label = \"{:.2f}\".format(ay)\n",
        "  plt.annotate(label,(ax,ay),textcoords=\"offset points\",xytext=(0,10),ha='center')\n",
        "plt.plot(x,y,label=\"All\")\n",
        "plt.plot(x,y1,label=\"60's\")\n",
        "plt.legend()\n",
        "\n",
        "plt.show()"
      ]
    },
    {
      "attachments": {},
      "cell_type": "markdown",
      "metadata": {},
      "source": [
        "# Task 2\n",
        "Charting with Colab\n",
        "\n",
        "<a href=\"https://colab.research.google.com/notebooks/charts.ipynb\" target=\"_blank\"><img src=\"https://colab.research.google.com/assets/colab-badge.svg\" alt=\"Open In Colab\"/></a>\n"
      ]
    },
    {
      "attachments": {},
      "cell_type": "markdown",
      "metadata": {},
      "source": [
        "# Assignment\n",
        "\n",
        "1. Plot the deaths of covid since 1st Jan 2023?"
      ]
    },
    {
      "cell_type": "code",
      "execution_count": 9,
      "metadata": {},
      "outputs": [
        {
          "name": "stdout",
          "output_type": "stream",
          "text": [
            "Loaded 19232 records from https://github.com/MoH-Malaysia/covid19-public/blob/main/epidemic/deaths_state.csv?raw=true.\n"
          ]
        }
      ],
      "source": [
        "import pandas as pd\n",
        "import matplotlib.pyplot as plt\n",
        "data_raw = \"https://github.com/MoH-Malaysia/covid19-public/blob/main/epidemic/deaths_state.csv?raw=true\"\n",
        "data = pd.read_csv(data_raw)\n",
        "print('Loaded {} records from {}.'.format(len(data), data_raw))"
      ]
    },
    {
      "cell_type": "code",
      "execution_count": 10,
      "metadata": {},
      "outputs": [
        {
          "data": {
            "text/html": [
              "<div>\n",
              "<style scoped>\n",
              "    .dataframe tbody tr th:only-of-type {\n",
              "        vertical-align: middle;\n",
              "    }\n",
              "\n",
              "    .dataframe tbody tr th {\n",
              "        vertical-align: top;\n",
              "    }\n",
              "\n",
              "    .dataframe thead th {\n",
              "        text-align: right;\n",
              "    }\n",
              "</style>\n",
              "<table border=\"1\" class=\"dataframe\">\n",
              "  <thead>\n",
              "    <tr style=\"text-align: right;\">\n",
              "      <th></th>\n",
              "      <th>date</th>\n",
              "      <th>state</th>\n",
              "      <th>deaths_new</th>\n",
              "      <th>deaths_bid</th>\n",
              "      <th>deaths_new_dod</th>\n",
              "      <th>deaths_bid_dod</th>\n",
              "      <th>deaths_unvax</th>\n",
              "      <th>deaths_pvax</th>\n",
              "      <th>deaths_fvax</th>\n",
              "      <th>deaths_boost</th>\n",
              "      <th>deaths_tat</th>\n",
              "    </tr>\n",
              "  </thead>\n",
              "  <tbody>\n",
              "    <tr>\n",
              "      <th>0</th>\n",
              "      <td>2020-03-17</td>\n",
              "      <td>Johor</td>\n",
              "      <td>1</td>\n",
              "      <td>0</td>\n",
              "      <td>1</td>\n",
              "      <td>0</td>\n",
              "      <td>1</td>\n",
              "      <td>0</td>\n",
              "      <td>0</td>\n",
              "      <td>0</td>\n",
              "      <td>0</td>\n",
              "    </tr>\n",
              "    <tr>\n",
              "      <th>1</th>\n",
              "      <td>2020-03-17</td>\n",
              "      <td>Kedah</td>\n",
              "      <td>0</td>\n",
              "      <td>0</td>\n",
              "      <td>0</td>\n",
              "      <td>0</td>\n",
              "      <td>0</td>\n",
              "      <td>0</td>\n",
              "      <td>0</td>\n",
              "      <td>0</td>\n",
              "      <td>0</td>\n",
              "    </tr>\n",
              "    <tr>\n",
              "      <th>2</th>\n",
              "      <td>2020-03-17</td>\n",
              "      <td>Kelantan</td>\n",
              "      <td>0</td>\n",
              "      <td>0</td>\n",
              "      <td>0</td>\n",
              "      <td>0</td>\n",
              "      <td>0</td>\n",
              "      <td>0</td>\n",
              "      <td>0</td>\n",
              "      <td>0</td>\n",
              "      <td>0</td>\n",
              "    </tr>\n",
              "    <tr>\n",
              "      <th>3</th>\n",
              "      <td>2020-03-17</td>\n",
              "      <td>Melaka</td>\n",
              "      <td>0</td>\n",
              "      <td>0</td>\n",
              "      <td>0</td>\n",
              "      <td>0</td>\n",
              "      <td>0</td>\n",
              "      <td>0</td>\n",
              "      <td>0</td>\n",
              "      <td>0</td>\n",
              "      <td>0</td>\n",
              "    </tr>\n",
              "    <tr>\n",
              "      <th>4</th>\n",
              "      <td>2020-03-17</td>\n",
              "      <td>Negeri Sembilan</td>\n",
              "      <td>0</td>\n",
              "      <td>0</td>\n",
              "      <td>0</td>\n",
              "      <td>0</td>\n",
              "      <td>0</td>\n",
              "      <td>0</td>\n",
              "      <td>0</td>\n",
              "      <td>0</td>\n",
              "      <td>0</td>\n",
              "    </tr>\n",
              "  </tbody>\n",
              "</table>\n",
              "</div>"
            ],
            "text/plain": [
              "         date            state  deaths_new  deaths_bid  deaths_new_dod  \\\n",
              "0  2020-03-17            Johor           1           0               1   \n",
              "1  2020-03-17            Kedah           0           0               0   \n",
              "2  2020-03-17         Kelantan           0           0               0   \n",
              "3  2020-03-17           Melaka           0           0               0   \n",
              "4  2020-03-17  Negeri Sembilan           0           0               0   \n",
              "\n",
              "   deaths_bid_dod  deaths_unvax  deaths_pvax  deaths_fvax  deaths_boost  \\\n",
              "0               0             1            0            0             0   \n",
              "1               0             0            0            0             0   \n",
              "2               0             0            0            0             0   \n",
              "3               0             0            0            0             0   \n",
              "4               0             0            0            0             0   \n",
              "\n",
              "   deaths_tat  \n",
              "0           0  \n",
              "1           0  \n",
              "2           0  \n",
              "3           0  \n",
              "4           0  "
            ]
          },
          "execution_count": 10,
          "metadata": {},
          "output_type": "execute_result"
        }
      ],
      "source": [
        "data.head()"
      ]
    },
    {
      "cell_type": "code",
      "execution_count": 11,
      "metadata": {},
      "outputs": [],
      "source": [
        "data[\"dateObject\"]= pd.to_datetime(data[\"date\"])"
      ]
    },
    {
      "cell_type": "code",
      "execution_count": 12,
      "metadata": {},
      "outputs": [
        {
          "data": {
            "text/html": [
              "<div>\n",
              "<style scoped>\n",
              "    .dataframe tbody tr th:only-of-type {\n",
              "        vertical-align: middle;\n",
              "    }\n",
              "\n",
              "    .dataframe tbody tr th {\n",
              "        vertical-align: top;\n",
              "    }\n",
              "\n",
              "    .dataframe thead th {\n",
              "        text-align: right;\n",
              "    }\n",
              "</style>\n",
              "<table border=\"1\" class=\"dataframe\">\n",
              "  <thead>\n",
              "    <tr style=\"text-align: right;\">\n",
              "      <th></th>\n",
              "      <th>date</th>\n",
              "      <th>state</th>\n",
              "      <th>deaths_new</th>\n",
              "      <th>deaths_bid</th>\n",
              "      <th>deaths_new_dod</th>\n",
              "      <th>deaths_bid_dod</th>\n",
              "      <th>deaths_unvax</th>\n",
              "      <th>deaths_pvax</th>\n",
              "      <th>deaths_fvax</th>\n",
              "      <th>deaths_boost</th>\n",
              "      <th>deaths_tat</th>\n",
              "      <th>dateObject</th>\n",
              "    </tr>\n",
              "  </thead>\n",
              "  <tbody>\n",
              "    <tr>\n",
              "      <th>0</th>\n",
              "      <td>2020-03-17</td>\n",
              "      <td>Johor</td>\n",
              "      <td>1</td>\n",
              "      <td>0</td>\n",
              "      <td>1</td>\n",
              "      <td>0</td>\n",
              "      <td>1</td>\n",
              "      <td>0</td>\n",
              "      <td>0</td>\n",
              "      <td>0</td>\n",
              "      <td>0</td>\n",
              "      <td>2020-03-17</td>\n",
              "    </tr>\n",
              "    <tr>\n",
              "      <th>1</th>\n",
              "      <td>2020-03-17</td>\n",
              "      <td>Kedah</td>\n",
              "      <td>0</td>\n",
              "      <td>0</td>\n",
              "      <td>0</td>\n",
              "      <td>0</td>\n",
              "      <td>0</td>\n",
              "      <td>0</td>\n",
              "      <td>0</td>\n",
              "      <td>0</td>\n",
              "      <td>0</td>\n",
              "      <td>2020-03-17</td>\n",
              "    </tr>\n",
              "    <tr>\n",
              "      <th>2</th>\n",
              "      <td>2020-03-17</td>\n",
              "      <td>Kelantan</td>\n",
              "      <td>0</td>\n",
              "      <td>0</td>\n",
              "      <td>0</td>\n",
              "      <td>0</td>\n",
              "      <td>0</td>\n",
              "      <td>0</td>\n",
              "      <td>0</td>\n",
              "      <td>0</td>\n",
              "      <td>0</td>\n",
              "      <td>2020-03-17</td>\n",
              "    </tr>\n",
              "    <tr>\n",
              "      <th>3</th>\n",
              "      <td>2020-03-17</td>\n",
              "      <td>Melaka</td>\n",
              "      <td>0</td>\n",
              "      <td>0</td>\n",
              "      <td>0</td>\n",
              "      <td>0</td>\n",
              "      <td>0</td>\n",
              "      <td>0</td>\n",
              "      <td>0</td>\n",
              "      <td>0</td>\n",
              "      <td>0</td>\n",
              "      <td>2020-03-17</td>\n",
              "    </tr>\n",
              "    <tr>\n",
              "      <th>4</th>\n",
              "      <td>2020-03-17</td>\n",
              "      <td>Negeri Sembilan</td>\n",
              "      <td>0</td>\n",
              "      <td>0</td>\n",
              "      <td>0</td>\n",
              "      <td>0</td>\n",
              "      <td>0</td>\n",
              "      <td>0</td>\n",
              "      <td>0</td>\n",
              "      <td>0</td>\n",
              "      <td>0</td>\n",
              "      <td>2020-03-17</td>\n",
              "    </tr>\n",
              "  </tbody>\n",
              "</table>\n",
              "</div>"
            ],
            "text/plain": [
              "         date            state  deaths_new  deaths_bid  deaths_new_dod  \\\n",
              "0  2020-03-17            Johor           1           0               1   \n",
              "1  2020-03-17            Kedah           0           0               0   \n",
              "2  2020-03-17         Kelantan           0           0               0   \n",
              "3  2020-03-17           Melaka           0           0               0   \n",
              "4  2020-03-17  Negeri Sembilan           0           0               0   \n",
              "\n",
              "   deaths_bid_dod  deaths_unvax  deaths_pvax  deaths_fvax  deaths_boost  \\\n",
              "0               0             1            0            0             0   \n",
              "1               0             0            0            0             0   \n",
              "2               0             0            0            0             0   \n",
              "3               0             0            0            0             0   \n",
              "4               0             0            0            0             0   \n",
              "\n",
              "   deaths_tat dateObject  \n",
              "0           0 2020-03-17  \n",
              "1           0 2020-03-17  \n",
              "2           0 2020-03-17  \n",
              "3           0 2020-03-17  \n",
              "4           0 2020-03-17  "
            ]
          },
          "execution_count": 12,
          "metadata": {},
          "output_type": "execute_result"
        }
      ],
      "source": [
        "data.head()"
      ]
    },
    {
      "cell_type": "code",
      "execution_count": 5,
      "metadata": {},
      "outputs": [
        {
          "data": {
            "text/html": [
              "<div>\n",
              "<style scoped>\n",
              "    .dataframe tbody tr th:only-of-type {\n",
              "        vertical-align: middle;\n",
              "    }\n",
              "\n",
              "    .dataframe tbody tr th {\n",
              "        vertical-align: top;\n",
              "    }\n",
              "\n",
              "    .dataframe thead th {\n",
              "        text-align: right;\n",
              "    }\n",
              "</style>\n",
              "<table border=\"1\" class=\"dataframe\">\n",
              "  <thead>\n",
              "    <tr style=\"text-align: right;\">\n",
              "      <th></th>\n",
              "      <th>date</th>\n",
              "      <th>deaths_new</th>\n",
              "      <th>deaths_bid</th>\n",
              "      <th>deaths_new_dod</th>\n",
              "      <th>deaths_bid_dod</th>\n",
              "      <th>deaths_unvax</th>\n",
              "      <th>deaths_pvax</th>\n",
              "      <th>deaths_fvax</th>\n",
              "      <th>deaths_boost</th>\n",
              "      <th>deaths_tat</th>\n",
              "      <th>dateObject</th>\n",
              "    </tr>\n",
              "  </thead>\n",
              "  <tbody>\n",
              "    <tr>\n",
              "      <th>1197</th>\n",
              "      <td>2023-06-27</td>\n",
              "      <td>0</td>\n",
              "      <td>0</td>\n",
              "      <td>1</td>\n",
              "      <td>0</td>\n",
              "      <td>1</td>\n",
              "      <td>0</td>\n",
              "      <td>0</td>\n",
              "      <td>0</td>\n",
              "      <td>0</td>\n",
              "      <td>2023-06-27</td>\n",
              "    </tr>\n",
              "    <tr>\n",
              "      <th>1198</th>\n",
              "      <td>2023-06-28</td>\n",
              "      <td>0</td>\n",
              "      <td>0</td>\n",
              "      <td>0</td>\n",
              "      <td>0</td>\n",
              "      <td>0</td>\n",
              "      <td>0</td>\n",
              "      <td>0</td>\n",
              "      <td>0</td>\n",
              "      <td>0</td>\n",
              "      <td>2023-06-28</td>\n",
              "    </tr>\n",
              "    <tr>\n",
              "      <th>1199</th>\n",
              "      <td>2023-06-29</td>\n",
              "      <td>0</td>\n",
              "      <td>0</td>\n",
              "      <td>0</td>\n",
              "      <td>0</td>\n",
              "      <td>0</td>\n",
              "      <td>0</td>\n",
              "      <td>0</td>\n",
              "      <td>0</td>\n",
              "      <td>0</td>\n",
              "      <td>2023-06-29</td>\n",
              "    </tr>\n",
              "    <tr>\n",
              "      <th>1200</th>\n",
              "      <td>2023-06-30</td>\n",
              "      <td>0</td>\n",
              "      <td>0</td>\n",
              "      <td>0</td>\n",
              "      <td>0</td>\n",
              "      <td>0</td>\n",
              "      <td>0</td>\n",
              "      <td>0</td>\n",
              "      <td>0</td>\n",
              "      <td>0</td>\n",
              "      <td>2023-06-30</td>\n",
              "    </tr>\n",
              "    <tr>\n",
              "      <th>1201</th>\n",
              "      <td>2023-07-01</td>\n",
              "      <td>2</td>\n",
              "      <td>0</td>\n",
              "      <td>0</td>\n",
              "      <td>0</td>\n",
              "      <td>0</td>\n",
              "      <td>0</td>\n",
              "      <td>0</td>\n",
              "      <td>0</td>\n",
              "      <td>4</td>\n",
              "      <td>2023-07-01</td>\n",
              "    </tr>\n",
              "  </tbody>\n",
              "</table>\n",
              "</div>"
            ],
            "text/plain": [
              "            date  deaths_new  deaths_bid  deaths_new_dod  deaths_bid_dod  \\\n",
              "1197  2023-06-27           0           0               1               0   \n",
              "1198  2023-06-28           0           0               0               0   \n",
              "1199  2023-06-29           0           0               0               0   \n",
              "1200  2023-06-30           0           0               0               0   \n",
              "1201  2023-07-01           2           0               0               0   \n",
              "\n",
              "      deaths_unvax  deaths_pvax  deaths_fvax  deaths_boost  deaths_tat  \\\n",
              "1197             1            0            0             0           0   \n",
              "1198             0            0            0             0           0   \n",
              "1199             0            0            0             0           0   \n",
              "1200             0            0            0             0           0   \n",
              "1201             0            0            0             0           4   \n",
              "\n",
              "     dateObject  \n",
              "1197 2023-06-27  \n",
              "1198 2023-06-28  \n",
              "1199 2023-06-29  \n",
              "1200 2023-06-30  \n",
              "1201 2023-07-01  "
            ]
          },
          "execution_count": 5,
          "metadata": {},
          "output_type": "execute_result"
        }
      ],
      "source": [
        "data.tail()"
      ]
    },
    {
      "cell_type": "code",
      "execution_count": 13,
      "metadata": {},
      "outputs": [],
      "source": [
        "data_2023 = data[data['dateObject']>=\"2023-01-01\"]"
      ]
    },
    {
      "cell_type": "code",
      "execution_count": 14,
      "metadata": {},
      "outputs": [
        {
          "data": {
            "text/html": [
              "<div>\n",
              "<style scoped>\n",
              "    .dataframe tbody tr th:only-of-type {\n",
              "        vertical-align: middle;\n",
              "    }\n",
              "\n",
              "    .dataframe tbody tr th {\n",
              "        vertical-align: top;\n",
              "    }\n",
              "\n",
              "    .dataframe thead th {\n",
              "        text-align: right;\n",
              "    }\n",
              "</style>\n",
              "<table border=\"1\" class=\"dataframe\">\n",
              "  <thead>\n",
              "    <tr style=\"text-align: right;\">\n",
              "      <th></th>\n",
              "      <th>date</th>\n",
              "      <th>state</th>\n",
              "      <th>deaths_new</th>\n",
              "      <th>deaths_bid</th>\n",
              "      <th>deaths_new_dod</th>\n",
              "      <th>deaths_bid_dod</th>\n",
              "      <th>deaths_unvax</th>\n",
              "      <th>deaths_pvax</th>\n",
              "      <th>deaths_fvax</th>\n",
              "      <th>deaths_boost</th>\n",
              "      <th>deaths_tat</th>\n",
              "      <th>dateObject</th>\n",
              "    </tr>\n",
              "  </thead>\n",
              "  <tbody>\n",
              "    <tr>\n",
              "      <th>16320</th>\n",
              "      <td>2023-01-01</td>\n",
              "      <td>Johor</td>\n",
              "      <td>1</td>\n",
              "      <td>0</td>\n",
              "      <td>1</td>\n",
              "      <td>0</td>\n",
              "      <td>0</td>\n",
              "      <td>0</td>\n",
              "      <td>0</td>\n",
              "      <td>1</td>\n",
              "      <td>2</td>\n",
              "      <td>2023-01-01</td>\n",
              "    </tr>\n",
              "    <tr>\n",
              "      <th>16321</th>\n",
              "      <td>2023-01-01</td>\n",
              "      <td>Kedah</td>\n",
              "      <td>1</td>\n",
              "      <td>0</td>\n",
              "      <td>0</td>\n",
              "      <td>0</td>\n",
              "      <td>0</td>\n",
              "      <td>0</td>\n",
              "      <td>0</td>\n",
              "      <td>0</td>\n",
              "      <td>3</td>\n",
              "      <td>2023-01-01</td>\n",
              "    </tr>\n",
              "    <tr>\n",
              "      <th>16322</th>\n",
              "      <td>2023-01-01</td>\n",
              "      <td>Kelantan</td>\n",
              "      <td>0</td>\n",
              "      <td>0</td>\n",
              "      <td>0</td>\n",
              "      <td>0</td>\n",
              "      <td>0</td>\n",
              "      <td>0</td>\n",
              "      <td>0</td>\n",
              "      <td>0</td>\n",
              "      <td>0</td>\n",
              "      <td>2023-01-01</td>\n",
              "    </tr>\n",
              "    <tr>\n",
              "      <th>16323</th>\n",
              "      <td>2023-01-01</td>\n",
              "      <td>Melaka</td>\n",
              "      <td>0</td>\n",
              "      <td>0</td>\n",
              "      <td>0</td>\n",
              "      <td>0</td>\n",
              "      <td>0</td>\n",
              "      <td>0</td>\n",
              "      <td>0</td>\n",
              "      <td>0</td>\n",
              "      <td>0</td>\n",
              "      <td>2023-01-01</td>\n",
              "    </tr>\n",
              "    <tr>\n",
              "      <th>16324</th>\n",
              "      <td>2023-01-01</td>\n",
              "      <td>Negeri Sembilan</td>\n",
              "      <td>0</td>\n",
              "      <td>0</td>\n",
              "      <td>1</td>\n",
              "      <td>1</td>\n",
              "      <td>0</td>\n",
              "      <td>0</td>\n",
              "      <td>0</td>\n",
              "      <td>1</td>\n",
              "      <td>0</td>\n",
              "      <td>2023-01-01</td>\n",
              "    </tr>\n",
              "  </tbody>\n",
              "</table>\n",
              "</div>"
            ],
            "text/plain": [
              "             date            state  deaths_new  deaths_bid  deaths_new_dod  \\\n",
              "16320  2023-01-01            Johor           1           0               1   \n",
              "16321  2023-01-01            Kedah           1           0               0   \n",
              "16322  2023-01-01         Kelantan           0           0               0   \n",
              "16323  2023-01-01           Melaka           0           0               0   \n",
              "16324  2023-01-01  Negeri Sembilan           0           0               1   \n",
              "\n",
              "       deaths_bid_dod  deaths_unvax  deaths_pvax  deaths_fvax  deaths_boost  \\\n",
              "16320               0             0            0            0             1   \n",
              "16321               0             0            0            0             0   \n",
              "16322               0             0            0            0             0   \n",
              "16323               0             0            0            0             0   \n",
              "16324               1             0            0            0             1   \n",
              "\n",
              "       deaths_tat dateObject  \n",
              "16320           2 2023-01-01  \n",
              "16321           3 2023-01-01  \n",
              "16322           0 2023-01-01  \n",
              "16323           0 2023-01-01  \n",
              "16324           0 2023-01-01  "
            ]
          },
          "execution_count": 14,
          "metadata": {},
          "output_type": "execute_result"
        }
      ],
      "source": [
        "data_2023.head()"
      ]
    },
    {
      "cell_type": "code",
      "execution_count": 17,
      "metadata": {},
      "outputs": [
        {
          "data": {
            "image/png": "[encoded data removed]",
            "text/plain": [
              "<Figure size 2000x1000 with 1 Axes>"
            ]
          },
          "metadata": {},
          "output_type": "display_data"
        }
      ],
      "source": [
        "x = data_2023['state']\n",
        "y = data_2023['deaths_new']\n",
        "y1 = data_2023['deaths_bid']\n",
        "plt.figure(figsize=(20,10))\n",
        "plt.xticks(rotation=45)\n",
        "plt.title(\"COVID Deaths by States\")\n",
        "plt.xlabel(\"States\")\n",
        "plt.ylabel(\"# of deaths\")\n",
        "for ax,ay in zip(x,y):\n",
        "  label = \"{:.2f}\".format(ay)\n",
        "  plt.annotate(label,(ax,ay),textcoords=\"offset points\",xytext=(0,10),ha='center')\n",
        "plt.bar(x,y,label=\"Deaths new\")\n",
        "plt.bar(x,y1,label=\"Deaths bid\")\n",
        "plt.legend()\n",
        "\n",
        "plt.show()"
      ]
    }
  ],
  "metadata": {
    "colab": {
      "authorship_tag": "ABX9TyN3/wHytdmOsld9dLW3nO15",
      "collapsed_sections": [],
      "include_colab_link": true,
      "name": "Lesson6.ipynb",
      "provenance": []
    },
    "kernelspec": {
      "display_name": "Python 3",
      "name": "python3"
    },
    "language_info": {
      "codemirror_mode": {
        "name": "ipython",
        "version": 3
      },
      "file_extension": ".py",
      "mimetype": "text/x-python",
      "name": "python",
      "nbconvert_exporter": "python",
      "pygments_lexer": "ipython3",
      "version": "3.10.4"
    }
  },
  "nbformat": 4,
  "nbformat_minor": 0
}
