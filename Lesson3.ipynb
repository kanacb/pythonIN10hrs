{
  "cells": [
    {
      "attachments": {},
      "cell_type": "markdown",
      "metadata": {
        "colab_type": "text",
        "id": "view-in-github"
      },
      "source": [
        "<a href=\"https://colab.research.google.com/github/kanacb/pythonIN10hrs/blob/main/Lesson3.ipynb\" target=\"_blank\"><img src=\"https://colab.research.google.com/assets/colab-badge.svg\" alt=\"Open In Colab\"/></a>"
      ]
    },
    {
      "attachments": {},
      "cell_type": "markdown",
      "metadata": {
        "id": "KUW_MsTnhbhA"
      },
      "source": [
        "# Lesson 3 - Graphing and Plotting\n",
        "\n",
        "## Lesson Plan\n",
        "1. Task 1\n",
        "2. Methodology\n",
        "3. Charting with Colab\n",
        "4. Quizz\n",
        "5. Take home assignment"
      ]
    },
    {
      "attachments": {},
      "cell_type": "markdown",
      "metadata": {
        "id": "Hd4P2fM4hHEv"
      },
      "source": [
        "# Task 1\n",
        "\n",
        "https://github.com/MoH-Malaysia/covid19-public\n",
        "\n",
        "Population of Malaysia\n",
        "1.   Plot Line Graph of Covid Deaths in Malaysia\n",
        "2.   Plot Scatter Plot by Location and size by number of visitors"
      ]
    },
    {
      "attachments": {},
      "cell_type": "markdown",
      "metadata": {
        "id": "uEm5oSdNIJWO"
      },
      "source": [
        "## Methodology to complete the task above\n",
        "1. Import libraries\n",
        "2. fetch data\n",
        "3. convert data to a pandas data frame\n",
        "4. inspect the data describe(), info(), \n",
        "5. prepare data for plotting\n",
        "6. plot the data with labels\n"
      ]
    },
    {
      "cell_type": "code",
      "execution_count": null,
      "metadata": {
        "id": "vZ_dxDYBISv0"
      },
      "outputs": [],
      "source": [
        "import pandas as pd\n",
        "import matplotlib.pyplot as plt"
      ]
    },
    {
      "cell_type": "code",
      "execution_count": null,
      "metadata": {
        "colab": {
          "base_uri": "https://localhost:8080/"
        },
        "id": "pNsn3sWlIbN4",
        "outputId": "4da45da1-b6be-40bd-f793-61b8fb17e85e"
      },
      "outputs": [],
      "source": [
        "data_raw = 'https://github.com/MoH-Malaysia/covid19-public/blob/main/static/population.csv?raw=true'\n",
        "data = pd.read_csv(data_raw)\n",
        "print('Loaded {} records from {}.'.format(len(data), data_raw))"
      ]
    },
    {
      "cell_type": "code",
      "execution_count": null,
      "metadata": {},
      "outputs": [],
      "source": [
        "data.info()"
      ]
    },
    {
      "cell_type": "code",
      "execution_count": null,
      "metadata": {},
      "outputs": [],
      "source": [
        "data.describe()"
      ]
    },
    {
      "cell_type": "code",
      "execution_count": null,
      "metadata": {
        "colab": {
          "base_uri": "https://localhost:8080/"
        },
        "id": "lax7iaVSImWS",
        "outputId": "5be3102a-bbc9-488e-98f1-0cbb21581bd1"
      },
      "outputs": [],
      "source": [
        "with pd.option_context('float_format', '{:.3f}'.format):\n",
        "    print(data.describe())"
      ]
    },
    {
      "cell_type": "code",
      "execution_count": null,
      "metadata": {
        "colab": {
          "base_uri": "https://localhost:8080/",
          "height": 293
        },
        "id": "K_3JrZkNJScX",
        "outputId": "af496503-7a3c-41db-9479-e6f4c687bd31"
      },
      "outputs": [],
      "source": [
        "x = data['state']\n",
        "y = data['pop']\n",
        "plt.plot(x,y)"
      ]
    },
    {
      "cell_type": "code",
      "execution_count": null,
      "metadata": {
        "colab": {
          "base_uri": "https://localhost:8080/",
          "height": 204
        },
        "id": "didyEN7NJmcj",
        "outputId": "7c16fe80-afc1-47eb-edaf-b8dba8a4c9ab"
      },
      "outputs": [],
      "source": [
        "state_data = data[data['state']!='Malaysia']\n",
        "state_data.head()"
      ]
    },
    {
      "cell_type": "code",
      "execution_count": null,
      "metadata": {
        "colab": {
          "base_uri": "https://localhost:8080/",
          "height": 204
        },
        "id": "IghB00qnJ_Yx",
        "outputId": "da712a69-6f05-4f24-c4f3-0c309053ac53"
      },
      "outputs": [],
      "source": [
        "state_data = state_data.reset_index()\n",
        "state_data.head()"
      ]
    },
    {
      "cell_type": "code",
      "execution_count": null,
      "metadata": {
        "colab": {
          "base_uri": "https://localhost:8080/",
          "height": 683
        },
        "id": "zfBtAdI6KSeZ",
        "outputId": "ac2bdebf-fd80-4730-94df-89406ff716e5"
      },
      "outputs": [],
      "source": [
        "x = state_data['state']\n",
        "y = state_data['pop']\n",
        "y1 = state_data['pop_60']\n",
        "plt.figure(figsize=(20,10))\n",
        "plt.xticks(rotation=45)\n",
        "plt.title(\"Population by Malaysian States\")\n",
        "plt.xlabel(\"States\")\n",
        "plt.ylabel(\"mill\")\n",
        "for ax,ay in zip(x,y):\n",
        "  label = \"{:.2f}\".format(ay)\n",
        "  plt.annotate(label,(ax,ay),textcoords=\"offset points\",xytext=(0,10),ha='center')\n",
        "plt.plot(x,y,label=\"All\")\n",
        "plt.plot(x,y1,label=\"60's\")\n",
        "plt.legend()\n",
        "\n",
        "plt.show()"
      ]
    },
    {
      "attachments": {},
      "cell_type": "markdown",
      "metadata": {},
      "source": [
        "# Task 2\n",
        "Charting with Colab\n",
        "\n",
        "<a href=\"https://colab.research.google.com/notebooks/charts.ipynb\" target=\"_blank\"><img src=\"https://colab.research.google.com/assets/colab-badge.svg\" alt=\"Open In Colab\"/></a>\n"
      ]
    },
    {
      "attachments": {},
      "cell_type": "markdown",
      "metadata": {},
      "source": [
        "# Assignment\n",
        "\n",
        "1. Plot the deaths of covid since 1st Jan 2023?"
      ]
    }
  ],
  "metadata": {
    "colab": {
      "authorship_tag": "ABX9TyN3/wHytdmOsld9dLW3nO15",
      "collapsed_sections": [],
      "include_colab_link": true,
      "name": "Lesson6.ipynb",
      "provenance": []
    },
    "kernelspec": {
      "display_name": "Python 3",
      "name": "python3"
    },
    "language_info": {
      "codemirror_mode": {
        "name": "ipython",
        "version": 3
      },
      "file_extension": ".py",
      "mimetype": "text/x-python",
      "name": "python",
      "nbconvert_exporter": "python",
      "pygments_lexer": "ipython3",
      "version": "3.10.4"
    }
  },
  "nbformat": 4,
  "nbformat_minor": 0
}
