{
  "cells": [
    {
      "attachments": {},
      "cell_type": "markdown",
      "metadata": {},
      "source": [
        "<a href=\"https://colab.research.google.com/github/kanacb/pythonIN10hrs/blob/main/Lesson5.ipynb\" target=\"_blank\"><img src=\"https://colab.research.google.com/assets/colab-badge.svg\" alt=\"Open In Colab\"/></a>"
      ]
    },
    {
      "attachments": {},
      "cell_type": "markdown",
      "metadata": {
        "id": "-ZuPld5UIyh0"
      },
      "source": [
        "# Lesson 5 - Statistics & Probability\n",
        "\n",
        "*   Discrete \n",
        "*   Continuos\n",
        "<br>\n",
        "<br>\n",
        "[link text](https://en.wikipedia.org/wiki/List_of_probability_distributions)"
      ]
    },
    {
      "cell_type": "code",
      "execution_count": null,
      "metadata": {
        "id": "hR-JRro4IcSG"
      },
      "outputs": [],
      "source": [
        "from sklearn.linear_model import LinearRegression\n",
        "import pandas as pd"
      ]
    },
    {
      "cell_type": "code",
      "execution_count": null,
      "metadata": {
        "colab": {
          "base_uri": "https://localhost:8080/",
          "height": 532
        },
        "id": "fkdkmYYkJZ4s",
        "outputId": "aa87ed9f-355d-4a41-dac2-9000628f5b8a"
      },
      "outputs": [],
      "source": [
        "file = 'https://github.com/kanacb/pythonmasterclass/blob/main/iPhone%20Prices.csv?raw=true'\n",
        "df = pd.read_csv(file)\n",
        "df"
      ]
    },
    {
      "cell_type": "code",
      "execution_count": null,
      "metadata": {
        "id": "fR1YSV8ZKXHM"
      },
      "outputs": [],
      "source": [
        "model = LinearRegression()"
      ]
    },
    {
      "cell_type": "code",
      "execution_count": null,
      "metadata": {
        "colab": {
          "base_uri": "https://localhost:8080/"
        },
        "id": "VwG6PzBdKt5O",
        "outputId": "8e92cfc8-56b5-4c68-f737-241225dd03ae"
      },
      "outputs": [],
      "source": [
        "model.fit(df[['Number']], df[['Price']],)"
      ]
    },
    {
      "cell_type": "code",
      "execution_count": null,
      "metadata": {
        "colab": {
          "base_uri": "https://localhost:8080/"
        },
        "id": "1RTdI6QBLT2k",
        "outputId": "f6f7535c-5f63-41a7-bbbc-84995bb94146"
      },
      "outputs": [],
      "source": [
        "print(\"Predict for 17th  = USD$\",model.predict([[17]])[0][0])"
      ]
    },
    {
      "cell_type": "code",
      "execution_count": null,
      "metadata": {
        "colab": {
          "base_uri": "https://localhost:8080/",
          "height": 265
        },
        "id": "oYvntJqoLhe7",
        "outputId": "84f98f20-ace1-4020-83ba-508b6fbbb9fc"
      },
      "outputs": [],
      "source": [
        "import matplotlib.pyplot as plt\n",
        "plt.scatter(df['Number'], df['Price'])\n",
        "plt.show()"
      ]
    },
    {
      "cell_type": "code",
      "execution_count": null,
      "metadata": {
        "colab": {
          "base_uri": "https://localhost:8080/"
        },
        "id": "Ym2EB9DqNFal",
        "outputId": "3746953c-e382-4a0a-b6d1-de620a5fbb30"
      },
      "outputs": [],
      "source": [
        "df['Price']"
      ]
    },
    {
      "cell_type": "code",
      "execution_count": null,
      "metadata": {
        "colab": {
          "base_uri": "https://localhost:8080/",
          "height": 550
        },
        "id": "PjeE9vL6OIqM",
        "outputId": "cc4b4653-f3f1-432e-884f-dc975d6c080b"
      },
      "outputs": [],
      "source": [
        "df[\"currency\"] = df['Price']*4.2\n",
        "df"
      ]
    },
    {
      "cell_type": "code",
      "execution_count": null,
      "metadata": {
        "colab": {
          "base_uri": "https://localhost:8080/"
        },
        "id": "Rh5IS6GOYF6U",
        "outputId": "992360fc-dbd7-439c-fc0a-389ac6c8cad5"
      },
      "outputs": [],
      "source": [
        "pred = model.predict(df[['Number']])\n",
        "pred"
      ]
    },
    {
      "cell_type": "code",
      "execution_count": null,
      "metadata": {
        "colab": {
          "base_uri": "https://localhost:8080/",
          "height": 265
        },
        "id": "FcWHOcIbZBHc",
        "outputId": "e2ca202f-fa77-4cd5-8645-2e42645ec754"
      },
      "outputs": [],
      "source": [
        "plt.plot(df['Number'], pred,'r--')\n",
        "plt.scatter(df['Number'], df['Price'])\n",
        "plt.show()"
      ]
    },
    {
      "cell_type": "code",
      "execution_count": null,
      "metadata": {
        "colab": {
          "base_uri": "https://localhost:8080/"
        },
        "id": "a3VMm2jBR71S",
        "outputId": "c91eeecf-9edc-485e-85c0-6ff036b5ff1a"
      },
      "outputs": [],
      "source": [
        "print(df.describe())"
      ]
    },
    {
      "cell_type": "code",
      "execution_count": null,
      "metadata": {
        "colab": {
          "base_uri": "https://localhost:8080/",
          "height": 516
        },
        "id": "HGJOcmE5STsS",
        "outputId": "6cfdff31-11ac-422a-e252-75103e0a5046"
      },
      "outputs": [],
      "source": [
        "df['Price'].plot.density(title=\"Probability Distribution Function\",figsize=(16,8),grid=True,legend=False)"
      ]
    },
    {
      "cell_type": "code",
      "execution_count": null,
      "metadata": {
        "colab": {
          "base_uri": "https://localhost:8080/"
        },
        "id": "5Q_MjZIrTKWD",
        "outputId": "f2fd73d1-49f5-413c-ca4a-6cee96530eeb"
      },
      "outputs": [],
      "source": [
        "df['Price'].median()"
      ]
    },
    {
      "attachments": {},
      "cell_type": "markdown",
      "metadata": {},
      "source": [
        "# Thank you\n",
        "\n",
        "Wish you all the best."
      ]
    }
  ],
  "metadata": {
    "colab": {
      "authorship_tag": "ABX9TyOLRxlZCPAWlVh9lYLBSqSf",
      "collapsed_sections": [],
      "include_colab_link": true,
      "name": "Copy of Lesson8 Old.ipynb",
      "provenance": []
    },
    "kernelspec": {
      "display_name": "Python 3",
      "name": "python3"
    },
    "language_info": {
      "name": "python"
    }
  },
  "nbformat": 4,
  "nbformat_minor": 0
}
